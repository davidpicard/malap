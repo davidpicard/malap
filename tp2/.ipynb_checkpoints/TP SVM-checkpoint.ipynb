{
 "cells": [
  {
   "cell_type": "markdown",
   "metadata": {},
   "source": [
    "# TP SVM\n",
    "\n"
   ]
  },
  {
   "cell_type": "code",
   "execution_count": 1,
   "metadata": {},
   "outputs": [],
   "source": [
    "import jax\n",
    "import jax.numpy as jnp\n",
    "import numpy as np\n",
    "import matplotlib.pyplot as plt"
   ]
  },
  {
   "cell_type": "markdown",
   "metadata": {},
   "source": [
    "For this lab, we will use the [MNIST dataset (~15Mo)](https://en.wikipedia.org/wiki/MNIST_database). It consists of 28x28 images (loaded as a 784 vector) and the associated label for training, validation and test sets. \n",
    "\n",
    "The following code loads a subset of 1000 training samples and 500 validation samples."
   ]
  },
  {
   "cell_type": "code",
   "execution_count": 2,
   "metadata": {},
   "outputs": [
    {
     "name": "stdout",
     "output_type": "stream",
     "text": [
      "5\n"
     ]
    },
    {
     "data": {
      "image/png": "[encoded data removed]",
      "text/plain": [
       "<Figure size 432x288 with 1 Axes>"
      ]
     },
     "metadata": {
      "needs_background": "light"
     },
     "output_type": "display_data"
    }
   ],
   "source": [
    "# Load the dataset\n",
    "data = np.load('mnist1k.npz')\n",
    "X_train = data['X_train']\n",
    "y_train = data['y_train']\n",
    "X_val = data['X_val']\n",
    "y_val = data['y_val']\n",
    "X_train_bin = data['X_train_bin']\n",
    "y_train_bin = data['y_train_bin']\n",
    "X_val_bin = data['X_val_bin']\n",
    "y_val_bin = data['y_val_bin']\n",
    "N_train = len(y_train)\n",
    "N_val = len(y_val)\n",
    "plt.imshow(X_train[0,:].reshape(28,28))\n",
    "print(y_train[0])"
   ]
  },
  {
   "cell_type": "markdown",
   "metadata": {},
   "source": [
    "Next, we define the 0-1 loss that measures the error rate of a classifier."
   ]
  },
  {
   "cell_type": "code",
   "execution_count": null,
   "metadata": {},
   "outputs": [],
   "source": [
    "def error_rate(y_hat, y):\n",
    "    return (1.-(y_hat==y)).mean()"
   ]
  },
  {
   "cell_type": "markdown",
   "metadata": {},
   "source": [
    "## Implementing a binary Kernel SVM\n",
    "\n",
    "#### Q1. Implement the code of the binary kernel SVM classifier in the following class using Stochastic Dual Coordinate Ascent (SDCA). It has to work for any kernel function like the provided linear kernel"
   ]
  },
  {
   "cell_type": "code",
   "execution_count": null,
   "metadata": {},
   "outputs": [],
   "source": [
    "'''\n",
    "takes arguements \n",
    "x1: m x d\n",
    "x2: n x d\n",
    "return the Gram matrix m x n\n",
    "'''\n",
    "def LinearKernel(x1, x2):\n",
    "    return jnp.matmul(x1, x2.T)"
   ]
  },
  {
   "cell_type": "code",
   "execution_count": null,
   "metadata": {},
   "outputs": [],
   "source": [
    "class KernelSVM():\n",
    "    def __init__(self, X, y, kernel=LinearKernel, C=1.0):\n",
    "        self.X = X\n",
    "        self.y = y\n",
    "        self.alpha = None\n",
    "        self.kernel = kernel\n",
    "        self.C = C\n",
    "    \n",
    "    '''\n",
    "    x is a matrix nxd of n samples of dimension d\n",
    "    returns a vector of size n containing the prediction of the class\n",
    "    '''\n",
    "    def __call__(self, x):\n",
    "        return"
   ]
  },
  {
   "cell_type": "markdown",
   "metadata": {},
   "source": [
    "We first try a Linear on the training set reduce to digits 0 and 1 to check that our code works. "
   ]
  },
  {
   "cell_type": "code",
   "execution_count": null,
   "metadata": {},
   "outputs": [],
   "source": [
    "svm = KernelSVM(X_train_bin, y_train_bin, LinearKernel)\n",
    "y_hat = svm(X_val_bin)\n",
    "err = error_rate(y_hat, y_val_bin)\n",
    "print(err)"
   ]
  },
  {
   "cell_type": "markdown",
   "metadata": {},
   "source": [
    "#### Q2. Use cross-validation to find the optimal number of epochs for training, up to a maximum of 25, and the optimal value of $C$"
   ]
  },
  {
   "cell_type": "code",
   "execution_count": null,
   "metadata": {},
   "outputs": [],
   "source": []
  },
  {
   "cell_type": "markdown",
   "metadata": {},
   "source": [
    "_Analyze your results in this box_"
   ]
  },
  {
   "cell_type": "markdown",
   "metadata": {},
   "source": [
    "## Multi-class classification\n",
    "\n",
    "Next, we want to perform a multiclass classification using our SVM. We will use the One-versus-All approach where we train a classifier for each class against all others. A test time, we select the class corresponding to the classifier that output the maximum score.\n",
    "\n",
    "#### Q3. Code a Multi-class SVM using a One-versus-All approach and validate it on the validation set"
   ]
  },
  {
   "cell_type": "code",
   "execution_count": null,
   "metadata": {},
   "outputs": [],
   "source": [
    "class OnevsAllKSVM():\n",
    "    def __init__(self, X, y, kernel=LinearKernel):\n",
    "        self.X = X\n",
    "        self.y = y\n",
    "        self.kernel = kernel\n",
    "        \n",
    "    def __call__(self, X):\n",
    "        return"
   ]
  },
  {
   "cell_type": "code",
   "execution_count": null,
   "metadata": {},
   "outputs": [],
   "source": []
  },
  {
   "cell_type": "markdown",
   "metadata": {},
   "source": [
    "*Analyze your results on the full training set in this box*"
   ]
  },
  {
   "cell_type": "markdown",
   "metadata": {},
   "source": [
    "## Kernels\n",
    "\n",
    "A linear classifier is unlikely to be able to classify correctly all classes, we will thus try several different kernels.\n",
    "\n",
    "#### Q4. Code a class for the Gaussian kernel, the polynomial kernel and the inhomogeneous polynomial kernel, and perform cross-validation to select a kernel and its hyperparameters"
   ]
  },
  {
   "cell_type": "code",
   "execution_count": null,
   "metadata": {},
   "outputs": [],
   "source": [
    "class GaussKernel():\n",
    "    def __init__(self, gamma=1.0):\n",
    "        self.gamma = gamma\n",
    "    '''\n",
    "    compute the Gram Matrix\n",
    "    '''\n",
    "    def __call__(self, x1, x2):\n",
    "        return jnp.zeros((x1.shape[0], x2.shape[0]))\n",
    "\n",
    "class PolyKernel():\n",
    "    def __init__(self, d=1.0, c=0.):\n",
    "        self.d = d\n",
    "        self.c = c\n",
    "    '''\n",
    "    compute the Gram Matrix\n",
    "    '''\n",
    "    def __call__(self, x1, x2):\n",
    "        return jnp.zeros((x1.shape[0], x2.shape[0]))"
   ]
  },
  {
   "cell_type": "code",
   "execution_count": null,
   "metadata": {},
   "outputs": [],
   "source": []
  },
  {
   "cell_type": "markdown",
   "metadata": {},
   "source": [
    "*Analyze your results in this box*"
   ]
  },
  {
   "cell_type": "markdown",
   "metadata": {},
   "source": [
    "#### Q5. For the best performing kernel, visualize the support vectors (limit to the ones with largest weights)"
   ]
  },
  {
   "cell_type": "code",
   "execution_count": null,
   "metadata": {},
   "outputs": [],
   "source": []
  },
  {
   "cell_type": "markdown",
   "metadata": {},
   "source": [
    "*Analyze your results in this box*"
   ]
  },
  {
   "cell_type": "markdown",
   "metadata": {},
   "source": [
    "## 2 dimensionnal visualization\n",
    "\n",
    "In order to visualize the boundaries between the classes, we want to project all data into a 2 dimensional space using PCA, and then perform the classification there.\n",
    "\n",
    "#### Q6. Implement a trainable kernel that performs a PCA projection followed by a Gaussian kernel and draw a scatter plot of the validation samples along with color coded region of each class (using pcolormesh or contourf)"
   ]
  },
  {
   "cell_type": "code",
   "execution_count": null,
   "metadata": {},
   "outputs": [],
   "source": [
    "class PCAGaussKernel():\n",
    "    def __init__(self, gamma=1.0, d=2):\n",
    "        self.gamma = gamma\n",
    "        self.d = d\n",
    "        self.P = None\n",
    "        self.mu = None\n",
    "    \n",
    "    '''\n",
    "    train self.mu and self.P\n",
    "    '''\n",
    "    def fit(X):\n",
    "        return\n",
    "    \n",
    "    '''\n",
    "    return the Gram matrix of the projected samples under the Gaussian kernel\n",
    "    '''\n",
    "    def __call__(self, x1, x2):\n",
    "        return"
   ]
  },
  {
   "cell_type": "code",
   "execution_count": null,
   "metadata": {},
   "outputs": [],
   "source": []
  },
  {
   "cell_type": "markdown",
   "metadata": {},
   "source": [
    "*Analyze your results in this box*"
   ]
  },
  {
   "cell_type": "markdown",
   "metadata": {},
   "source": [
    "#### Q7. Modify your training procedure such that it optimizes all classifiers at each step, instead of training fully each classifier one after another and make a video of the evolution of the prediction boundary  during training"
   ]
  },
  {
   "cell_type": "code",
   "execution_count": null,
   "metadata": {},
   "outputs": [],
   "source": []
  }
 ],
 "metadata": {
  "kernelspec": {
   "display_name": "Python 3",
   "language": "python",
   "name": "python3"
  },
  "language_info": {
   "codemirror_mode": {
    "name": "ipython",
    "version": 3
   },
   "file_extension": ".py",
   "mimetype": "text/x-python",
   "name": "python",
   "nbconvert_exporter": "python",
   "pygments_lexer": "ipython3",
   "version": "3.7.5"
  },
  "latex_envs": {
   "LaTeX_envs_menu_present": false,
   "autoclose": false,
   "autocomplete": false,
   "bibliofile": "biblio.bib",
   "cite_by": "apalike",
   "current_citInitial": 1,
   "eqLabelWithNumbers": true,
   "eqNumInitial": 1,
   "hotkeys": {
    "equation": "Ctrl-E",
    "itemize": "Ctrl-I"
   },
   "labels_anchors": false,
   "latex_user_defs": false,
   "report_style_numbering": false,
   "user_envs_cfg": false
  }
 },
 "nbformat": 4,
 "nbformat_minor": 4
}
