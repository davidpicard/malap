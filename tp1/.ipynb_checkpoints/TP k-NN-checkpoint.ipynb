{
 "cells": [
  {
   "cell_type": "markdown",
   "metadata": {},
   "source": [
    "# TP k-NN\n",
    "\n"
   ]
  },
  {
   "cell_type": "code",
   "execution_count": 1,
   "metadata": {},
   "outputs": [],
   "source": [
    "import jax\n",
    "import jax.numpy as jnp\n",
    "import numpy as np\n",
    "import matplotlib.pyplot as plt"
   ]
  },
  {
   "cell_type": "markdown",
   "metadata": {},
   "source": [
    "For this lab, we will use the [MNIST dataset (~15Mo)](https://en.wikipedia.org/wiki/MNIST_database). It consists of 28x28 images (loaded as a 784 vector) and the associated label for training, validation and test sets. \n",
    "\n",
    "The following code loads a subset of 1000 training samples and 500 validation samples."
   ]
  },
  {
   "cell_type": "code",
   "execution_count": 2,
   "metadata": {},
   "outputs": [
    {
     "name": "stdout",
     "output_type": "stream",
     "text": [
      "5\n"
     ]
    },
    {
     "data": {
      "image/png": "[encoded data removed]",
      "text/plain": [
       "<Figure size 432x288 with 1 Axes>"
      ]
     },
     "metadata": {
      "needs_background": "light"
     },
     "output_type": "display_data"
    }
   ],
   "source": [
    "# Load the dataset\n",
    "data = np.load('mnist1k.npz')\n",
    "X_train = data['X_train']\n",
    "y_train = data['y_train']\n",
    "X_val = data['X_val']\n",
    "y_val = data['y_val']\n",
    "N_train = len(y_train)\n",
    "N_val = len(y_val)\n",
    "plt.imshow(X_train[0,:].reshape(28,28))\n",
    "print(y_train[0])"
   ]
  },
  {
   "cell_type": "markdown",
   "metadata": {},
   "source": [
    "Next, we define the 0-1 loss that measures the error rate of a classifier."
   ]
  },
  {
   "cell_type": "code",
   "execution_count": null,
   "metadata": {},
   "outputs": [],
   "source": [
    "def error_rate(y_hat, y):\n",
    "    return (1.-(y_hat==y)).mean()"
   ]
  },
  {
   "cell_type": "markdown",
   "metadata": {},
   "source": [
    "## Implementing a simple $k$-NN\n",
    "\n",
    "#### Q1. Implement the code of the $k$-NN classifier in the following class. It has to work for any value of $k$ and any number of classes in $\\mathcal{Y}$"
   ]
  },
  {
   "cell_type": "code",
   "execution_count": null,
   "metadata": {},
   "outputs": [],
   "source": [
    "class KNearestNeighbor():\n",
    "    def __init__(self, X, y, k=1):\n",
    "        self.X = X\n",
    "        self.y = y\n",
    "        self.k = k\n",
    "    \n",
    "    '''\n",
    "    x is a matrix nxd of n samples of dimension d\n",
    "    returns a vector of size n containing the prediction of the class\n",
    "    '''\n",
    "    def __call__(self, x):\n",
    "        return"
   ]
  },
  {
   "cell_type": "markdown",
   "metadata": {},
   "source": [
    "We first try a simple 1-NN on the full training set to check that our code works. We should get around 15% error."
   ]
  },
  {
   "cell_type": "code",
   "execution_count": null,
   "metadata": {},
   "outputs": [],
   "source": [
    "nn = KNearestNeighbor(train_data, train_labels, k=1)\n",
    "y_hat = nn(val_data)\n",
    "err = error_rate(y_hat, val_labels)\n",
    "print(err)"
   ]
  },
  {
   "cell_type": "markdown",
   "metadata": {},
   "source": [
    "## selecting $k$ using cross-validation\n",
    "\n",
    "Next, we want to select the optimal value for $k$ using K-Fold cross-validation.\n",
    "\n",
    "#### Q2. Code a routine that performs 10-Fold cross-validation, use it to plot the average and stddev error rate  of the $k$-NN classifier for $k$ varying from 1 to 20."
   ]
  },
  {
   "cell_type": "code",
   "execution_count": null,
   "metadata": {},
   "outputs": [],
   "source": []
  },
  {
   "cell_type": "markdown",
   "metadata": {},
   "source": [
    "*Analyze your results in this box*"
   ]
  },
  {
   "cell_type": "markdown",
   "metadata": {},
   "source": [
    "## PCA preprocessing\n",
    "\n",
    "The euclidean distance may not be the best to measure the distance between images. In this particular example, we know that the borders are mostly 0, and thus they introduce 0 in the computation that tend to make all images more similar.\n",
    "\n",
    "To aleviate this problem, we propose to project the data into a lower dimensional space using Principal Component analysis.\n",
    "\n",
    "#### Q3. Code a class that performs PCA."
   ]
  },
  {
   "cell_type": "code",
   "execution_count": null,
   "metadata": {},
   "outputs": [],
   "source": [
    "class PCA():\n",
    "    '''\n",
    "    dim is the number of dimensions retained by the projection.\n",
    "    '''\n",
    "    def __init__(self, dim):\n",
    "        self.d = dim\n",
    "        self.mean = None\n",
    "        self.P = None\n",
    "    '''\n",
    "    Computes and stores self.mean and self.P from the training data X\n",
    "    '''\n",
    "    def train(X):\n",
    "        \n",
    "        return\n",
    "    '''\n",
    "    Projects X using self.mean and self.P\n",
    "    '''\n",
    "    def transform(X):\n",
    "        return jnp.matmul(X - self.mean[None, :], self.P)"
   ]
  },
  {
   "cell_type": "markdown",
   "metadata": {},
   "source": [
    "#### Q4. Train a 1-NN on the full training set pre-processed using a PCA that keeps only 64 most relevant dimensions, and computes the error rate. Compare to the original result and analyze."
   ]
  },
  {
   "cell_type": "code",
   "execution_count": null,
   "metadata": {},
   "outputs": [],
   "source": []
  },
  {
   "cell_type": "markdown",
   "metadata": {},
   "source": [
    "*Analyze your results in this box*"
   ]
  },
  {
   "cell_type": "markdown",
   "metadata": {},
   "source": [
    "#### Q5. Perform a 10-Fold cross-validation search over k from 1 to 20 and PCA dimensions of increasing power of 2 (*e.g.*, 2, 4, 8, ...), and analyze your findings."
   ]
  },
  {
   "cell_type": "code",
   "execution_count": null,
   "metadata": {},
   "outputs": [],
   "source": []
  },
  {
   "cell_type": "markdown",
   "metadata": {},
   "source": [
    "*Analyze your results in this box*"
   ]
  },
  {
   "cell_type": "markdown",
   "metadata": {},
   "source": [
    "## Weighted $k$-NN\n",
    "\n",
    "In the classical $k$-NN, all neighbors vote with the same weight towards the predicted class. However, one could argue that this doe not take into account how far these neighbors are. For example, if the example $x$ we want to classify is in a low density region, the value of $k$ may be to high, and the vote is cast by training samples that are very far away from $x$.\n",
    "\n",
    "To aleviate this problem, we propose to weight the vote cast by the neighbor by the inverse proportion of their distance. Let us denote $x_1, \\dots, x_k$ the $k$ nearest neighbors of $x$ in increasing distance order, and let us denote by $d_i = \\|x_i - x\\|^2$ the squared distance between $x$ and $x_i$. Then, the weight is simply\n",
    "$$ w_i = \\frac{\\sum_m d_m}{d_i} $$\n",
    "\n",
    "#### Q6. Implement the weighted $k$-NN class"
   ]
  },
  {
   "cell_type": "code",
   "execution_count": null,
   "metadata": {},
   "outputs": [],
   "source": [
    "class KNearestNeighbor():\n",
    "    def __init__(self, X, y, k=1):\n",
    "        self.X = X\n",
    "        self.y = y\n",
    "        self.k = k\n",
    "    \n",
    "    '''\n",
    "    x is a matrix nxd of n samples of dimension d\n",
    "    returns a vector of size n containing the prediction of the class\n",
    "    '''\n",
    "    def __call__(self, x):\n",
    "        return"
   ]
  },
  {
   "cell_type": "markdown",
   "metadata": {},
   "source": [
    "#### Q7. perform the same 10-Fold cross-validation search over $k$ and the PCA dimension for the weighted $k$-NN classifier and analyze your results"
   ]
  },
  {
   "cell_type": "code",
   "execution_count": null,
   "metadata": {},
   "outputs": [],
   "source": []
  },
  {
   "cell_type": "markdown",
   "metadata": {},
   "source": [
    "*Analyze your results in this box*"
   ]
  },
  {
   "cell_type": "code",
   "execution_count": null,
   "metadata": {},
   "outputs": [],
   "source": []
  }
 ],
 "metadata": {
  "kernelspec": {
   "display_name": "Python 3",
   "language": "python",
   "name": "python3"
  },
  "language_info": {
   "codemirror_mode": {
    "name": "ipython",
    "version": 3
   },
   "file_extension": ".py",
   "mimetype": "text/x-python",
   "name": "python",
   "nbconvert_exporter": "python",
   "pygments_lexer": "ipython3",
   "version": "3.7.5"
  },
  "latex_envs": {
   "LaTeX_envs_menu_present": false,
   "autoclose": false,
   "autocomplete": false,
   "bibliofile": "biblio.bib",
   "cite_by": "apalike",
   "current_citInitial": 1,
   "eqLabelWithNumbers": true,
   "eqNumInitial": 1,
   "hotkeys": {
    "equation": "Ctrl-E",
    "itemize": "Ctrl-I"
   },
   "labels_anchors": false,
   "latex_user_defs": false,
   "report_style_numbering": false,
   "user_envs_cfg": false
  }
 },
 "nbformat": 4,
 "nbformat_minor": 4
}
